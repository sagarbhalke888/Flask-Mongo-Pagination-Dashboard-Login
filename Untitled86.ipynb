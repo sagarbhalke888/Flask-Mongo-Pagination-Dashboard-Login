{
  "nbformat": 4,
  "nbformat_minor": 0,
  "metadata": {
    "colab": {
      "name": "Untitled86.ipynb",
      "provenance": [],
      "authorship_tag": "ABX9TyPufAztb/uHmVhuV4LT79z0",
      "include_colab_link": true
    },
    "kernelspec": {
      "name": "python3",
      "display_name": "Python 3"
    }
  },
  "cells": [
    {
      "cell_type": "markdown",
      "metadata": {
        "id": "view-in-github",
        "colab_type": "text"
      },
      "source": [
        "<a href=\"https://colab.research.google.com/github/sagarbhalke888/Flask-Mongo-Pagination-Dashboard-Login/blob/master/Untitled86.ipynb\" target=\"_parent\"><img src=\"https://colab.research.google.com/assets/colab-badge.svg\" alt=\"Open In Colab\"/></a>"
      ]
    },
    {
      "cell_type": "code",
      "metadata": {
        "id": "23-9mN8JOAgf",
        "colab_type": "code",
        "colab": {
          "base_uri": "https://localhost:8080/",
          "height": 195
        },
        "outputId": "7dfd41d7-25e7-4bcd-cee4-20f71634b4e4"
      },
      "source": [
        "\"\"\"\n",
        "Demonstrates streaming feature in OANDA open api\n",
        "To execute, run the following command:\n",
        "python streaming.py [options]\n",
        "To show heartbeat, replace [options] by -b or --displayHeartBeat\n",
        "\"\"\"\n",
        "\n",
        "import requests\n",
        "import json\n",
        "\n",
        "from optparse import OptionParser\n",
        "\n",
        "def connect_to_stream():\n",
        "\n",
        "    \"\"\"\n",
        "    Environment                 Description \n",
        "    fxTrade (Live)              The live (real money) environment \n",
        "    fxTrade Practice (Demo)     The demo (simulated money) environment \n",
        "    \"\"\"\n",
        "    domainDict = { 'live' : 'stream-fxtrade.oanda.com',\n",
        "               'demo' : 'stream-fxpractice.oanda.com' }\n",
        "\n",
        "    # Replace the following variables with your personal values \n",
        "    environment = \"demo\" # Replace this 'live' if you wish to connect to the live environment \n",
        "    domain = domainDict[environment] \n",
        "    access_token = '523c77eeea1105d7346362d772ac06e1-6f1ea3c485934b668b87d30d538ddfad'\n",
        "    account_id = '4488023'\n",
        "    instruments = 'EUR_USD' \n",
        "    try:\n",
        "        s = requests.Session()\n",
        "        url = \"https://\" + domain + \"/v1/prices\"\n",
        "        headers = {'Authorization' : 'Bearer ' + access_token,\n",
        "                   # 'X-Accept-Datetime-Format' : 'unix'\n",
        "                  }\n",
        "        params = {'instruments' : instruments, 'accountId' : account_id}\n",
        "        req = requests.Request('GET', url, headers = headers, params = params)\n",
        "        pre = req.prepare()\n",
        "        resp = s.send(pre, stream = True, verify = True)\n",
        "        return resp\n",
        "    except Exception as e:\n",
        "        s.close()\n",
        "        print(\"Caught exception when connecting to stream\\n\" + str(e)) \n",
        "\n",
        "def demo(displayHeartbeat):\n",
        "    response = connect_to_stream()\n",
        "    if response.status_code != 200:\n",
        "        print(response.text)\n",
        "        return\n",
        "    for line in response.iter_lines(1):\n",
        "        if line:\n",
        "            try:\n",
        "                line = line.decode('utf-8')\n",
        "                msg = json.loads(line)\n",
        "            except Exception as e:\n",
        "                print(\"Caught exception when converting message into json\\n\" + str(e))\n",
        "                return\n",
        "\n",
        "            if \"instrument\" in msg or \"tick\" in msg or displayHeartbeat:\n",
        "                print(line)\n",
        "\n",
        "def main():\n",
        "    usage = \"usage: %prog [options]\"\n",
        "    parser = OptionParser(usage)\n",
        "    parser.add_option(\"-b\", \"--displayHeartBeat\", dest = \"verbose\", action = \"store_true\", \n",
        "                        help = \"Display HeartBeat in streaming data\")\n",
        "    displayHeartbeat = False\n",
        "\n",
        "    (options, args) = parser.parse_args()\n",
        "    if len(args) > 1:\n",
        "        parser.error(\"incorrect number of arguments\")\n",
        "    if options.verbose:\n",
        "        displayHeartbeat = True\n",
        "    demo(displayHeartbeat)\n",
        "\n",
        "\n",
        "if __name__ == \"__main__\":\n",
        "    main()"
      ],
      "execution_count": 1,
      "outputs": [
        {
          "output_type": "stream",
          "text": [
            "Usage: ipykernel_launcher.py [options]\n",
            "\n",
            "ipykernel_launcher.py: error: no such option: -f\n"
          ],
          "name": "stderr"
        },
        {
          "output_type": "error",
          "ename": "SystemExit",
          "evalue": "ignored",
          "traceback": [
            "An exception has occurred, use %tb to see the full traceback.\n",
            "\u001b[0;31mSystemExit\u001b[0m\u001b[0;31m:\u001b[0m 2\n"
          ]
        },
        {
          "output_type": "stream",
          "text": [
            "/usr/local/lib/python3.6/dist-packages/IPython/core/interactiveshell.py:2890: UserWarning: To exit: use 'exit', 'quit', or Ctrl-D.\n",
            "  warn(\"To exit: use 'exit', 'quit', or Ctrl-D.\", stacklevel=1)\n"
          ],
          "name": "stderr"
        }
      ]
    },
    {
      "cell_type": "code",
      "metadata": {
        "id": "a4z1XQU64ECd",
        "colab_type": "code",
        "colab": {}
      },
      "source": [
        ""
      ],
      "execution_count": null,
      "outputs": []
    }
  ]
}